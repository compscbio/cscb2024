{
 "cells": [
  {
   "cell_type": "markdown",
   "id": "62aea6d7-720e-4e9e-9e57-1c5e6bc1e19a",
   "metadata": {},
   "source": [
    "<div class=\"alert alert-block alert-info\"><b>BCMB and Immunology students:</b><br>\n",
    "Before we meet on Wednesday morning 12/18/24, please ensure that you can access Google Colab as described below!\n",
    "</div> "
   ]
  },
  {
   "cell_type": "markdown",
   "id": "8db70fa2-30ba-4436-9bf8-0a0104fc30a4",
   "metadata": {},
   "source": [
    "### Google Colab\n",
    "You alread know about Jupyter and how to use it. In class, we will use Google's Colab cloud platform to perform analysis of scRNA-seq data. This platform allows users to run analyses on the cloud for free using Jupyter. But, you need a Google account to do so. \n",
    "\n",
    "1. Please create [a Google account](https://www.google.com/account/about/), if you do not already have one.\n",
    "\n",
    "2. Log in to your [Google account](https://accounts.google.com), if you are not already logged in.\n",
    "\n",
    "3. Test your access to [Google Colab](https://colab.research.google.com/). You should see a screen like the following:\n",
    "\n",
    "<figure>\n",
    "    <img src=\"img/google_colab.png\" alt=\"Google Colab\" width=\"600\">\n",
    "    <figcaption>Screenshot of Colab diaglog box</figcaption>\n",
    "</figure>\n",
    "\n",
    "4. Create a new notebook. If you see the dialog shown above, then click 'create notebook'. You can also create a notebook using the Menu at the top of the page: File -> New notebook in Drive. Either will result in the launching of a new Jupyter notebook.\n",
    "\n",
    "5. The End. You are done and can close the browser page on Colab.\n"
   ]
  },
  {
   "cell_type": "code",
   "execution_count": null,
   "id": "089a878f-790f-4fcb-94fd-2645f8bf3f37",
   "metadata": {},
   "outputs": [],
   "source": []
  }
 ],
 "metadata": {
  "kernelspec": {
   "display_name": "Python 3 (ipykernel)",
   "language": "python",
   "name": "python3"
  },
  "language_info": {
   "codemirror_mode": {
    "name": "ipython",
    "version": 3
   },
   "file_extension": ".py",
   "mimetype": "text/x-python",
   "name": "python",
   "nbconvert_exporter": "python",
   "pygments_lexer": "ipython3",
   "version": "3.11.6"
  }
 },
 "nbformat": 4,
 "nbformat_minor": 5
}
